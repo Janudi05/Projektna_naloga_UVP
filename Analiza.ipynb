{
 "cells": [
  {
   "cell_type": "markdown",
   "id": "819540d8",
   "metadata": {},
   "source": [
    "\n",
    "# 🌍 Globina analiza globalnega segrevanja (1880-2023)\n",
    "## 📊 Primerjava lokalnih in globalnih temperaturnih trendov\n",
    "\n",
    "**Avtor**: [Vaše ime]  \n",
    "**Zadnja posodobitev**: {daneshni datum}\n",
    "\n",
    "## 📌 Cilji analize\n",
    "\n",
    "1. **Kvantificirati** segrevanje na 6 ključnih lokacijah po svetu\n",
    "2. **Primerjati** lokalne trende z globalnimi podatki (NASA)\n",
    "3. **Ovrednotiti** statistično značilnost ugotovljenih trendov\n",
    "4. **Vizualizirati** temperaturno dinamiko v različnih klimatskih pasovih\n",
    "\n",
    "## 📂 Podatkovni viri\n",
    "\n",
    "- **NASA GISTEMP** (1880-danes): Globalna povprečna temperatura\n",
    "- **Open-Meteo API** (1940-danes): Lokalne temperature za izbrane kraje\n",
    "- **NOAA** (dodatno): Za validacijo rezultatov\n"
   ]
  },
  {
   "cell_type": "markdown",
   "id": "083d324e",
   "metadata": {},
   "source": [
    "\n",
    "## 🛠️ Inicializacija okolja\n",
    "\n",
    "V tej celici:\n",
    "- Naložimo vse potrebne knjižnice\n",
    "- Nastavimo vizualne parametre\n",
    "- Definiramo pomožne funkcije\n",
    "\n",
    "**Opomba**: Vse knjižnice so standardne in vključene v osnovno Anacondo distribucijo.\n",
    "\"\"\"\n"
   ]
  },
  {
   "cell_type": "code",
   "execution_count": 7,
   "id": "41ccf464",
   "metadata": {},
   "outputs": [
    {
     "name": "stdout",
     "output_type": "stream",
     "text": [
      "✅ Okolje uspešno inicializirano!\n"
     ]
    }
   ],
   "source": [
    "# Osnovne knjižnice\n",
    "import pandas as pd\n",
    "import numpy as np\n",
    "import matplotlib.pyplot as plt\n",
    "import seaborn as sns\n",
    "from IPython.display import display, Markdown\n",
    "\n",
    "# Napredne analize\n",
    "from scipy.stats import linregress\n",
    "import pymannkendall as mk\n",
    "\n",
    "# Delo s spletnimi podatki\n",
    "import requests\n",
    "from io import StringIO\n",
    "\n",
    "# Vizualne nastavitve\n",
    "plt.style.use('seaborn-v0_8-darkgrid')  # Uporabite enega od naštetih stilov\n",
    "sns.set_palette(\"husl\")\n",
    "%matplotlib inline\n",
    "pd.set_option('display.float_format', '{:.2f}'.format)\n",
    "\n",
    "# Pomožne funkcije\n",
    "def progress_bar(iterable, desc=\"\"):\n",
    "    \"\"\"Vizualni indikator napredka\"\"\"\n",
    "    from tqdm.notebook import tqdm\n",
    "    return tqdm(iterable, desc=desc, unit=\"lokacija\")\n",
    "\n",
    "print(\"✅ Okolje uspešno inicializirano!\")"
   ]
  },
  {
   "cell_type": "markdown",
   "id": "e0607c95",
   "metadata": {},
   "source": [
    "## 📥 Pridobivanje podatkov\n",
    "\n",
    "### NASA globalni podatki\n",
    "- Vir: https://data.giss.nasa.gov/gistemp/\n",
    "- Obdobje: 1880-danes\n",
    "- Enota: Temperaturna anomalija (°C) glede na bazno obdobje\n",
    "\n",
    "### Lokalne temperature\n",
    "- Vir: Open-Meteo Historical API\n",
    "- Obdobje: 1940-2023\n",
    "- Resolucija: Dnevna povprečna temperatura"
   ]
  },
  {
   "cell_type": "code",
   "execution_count": 1,
   "id": "c23423ef",
   "metadata": {},
   "outputs": [
    {
     "name": "stdout",
     "output_type": "stream",
     "text": [
      "Ta datoteka se nalaga!\n",
      "Razred PodatkovniUpravljalnik je definiran.\n"
     ]
    },
    {
     "data": {
      "text/markdown": [
       "## Pridobivanje NASA podatkov..."
      ],
      "text/plain": [
       "<IPython.core.display.Markdown object>"
      ]
     },
     "metadata": {},
     "output_type": "display_data"
    },
    {
     "data": {
      "text/markdown": [
       "✅ NASA podatki uspešno naloženi (1880-2025)"
      ],
      "text/plain": [
       "<IPython.core.display.Markdown object>"
      ]
     },
     "metadata": {},
     "output_type": "display_data"
    },
    {
     "data": {
      "text/markdown": [
       "## Pridobivanje OpenMeteo podatkov..."
      ],
      "text/plain": [
       "<IPython.core.display.Markdown object>"
      ]
     },
     "metadata": {},
     "output_type": "display_data"
    },
    {
     "data": {
      "text/markdown": [
       "## Obdelujem 1/15: Ljubljana"
      ],
      "text/plain": [
       "<IPython.core.display.Markdown object>"
      ]
     },
     "metadata": {},
     "output_type": "display_data"
    },
    {
     "data": {
      "text/markdown": [
       "ℹ️ Podatki za Ljubljana so že pridobljeni. Preskočeno."
      ],
      "text/plain": [
       "<IPython.core.display.Markdown object>"
      ]
     },
     "metadata": {},
     "output_type": "display_data"
    },
    {
     "data": {
      "text/markdown": [
       "## Obdelujem 2/15: Reykjavik"
      ],
      "text/plain": [
       "<IPython.core.display.Markdown object>"
      ]
     },
     "metadata": {},
     "output_type": "display_data"
    },
    {
     "data": {
      "text/markdown": [
       "ℹ️ Podatki za Reykjavik so že pridobljeni. Preskočeno."
      ],
      "text/plain": [
       "<IPython.core.display.Markdown object>"
      ]
     },
     "metadata": {},
     "output_type": "display_data"
    },
    {
     "data": {
      "text/markdown": [
       "⏸️ Pavza 60 sekund..."
      ],
      "text/plain": [
       "<IPython.core.display.Markdown object>"
      ]
     },
     "metadata": {},
     "output_type": "display_data"
    },
    {
     "data": {
      "text/markdown": [
       "## Obdelujem 3/15: Singapore"
      ],
      "text/plain": [
       "<IPython.core.display.Markdown object>"
      ]
     },
     "metadata": {},
     "output_type": "display_data"
    },
    {
     "data": {
      "text/markdown": [
       "ℹ️ Podatki za Singapore so že pridobljeni. Preskočeno."
      ],
      "text/plain": [
       "<IPython.core.display.Markdown object>"
      ]
     },
     "metadata": {},
     "output_type": "display_data"
    },
    {
     "data": {
      "text/markdown": [
       "## Obdelujem 4/15: Sydney"
      ],
      "text/plain": [
       "<IPython.core.display.Markdown object>"
      ]
     },
     "metadata": {},
     "output_type": "display_data"
    },
    {
     "data": {
      "text/markdown": [
       "ℹ️ Podatki za Sydney so že pridobljeni. Preskočeno."
      ],
      "text/plain": [
       "<IPython.core.display.Markdown object>"
      ]
     },
     "metadata": {},
     "output_type": "display_data"
    },
    {
     "data": {
      "text/markdown": [
       "⏸️ Pavza 60 sekund..."
      ],
      "text/plain": [
       "<IPython.core.display.Markdown object>"
      ]
     },
     "metadata": {},
     "output_type": "display_data"
    },
    {
     "data": {
      "text/markdown": [
       "## Obdelujem 5/15: Tokyo"
      ],
      "text/plain": [
       "<IPython.core.display.Markdown object>"
      ]
     },
     "metadata": {},
     "output_type": "display_data"
    },
    {
     "data": {
      "text/markdown": [
       "ℹ️ Podatki za Tokyo so že pridobljeni. Preskočeno."
      ],
      "text/plain": [
       "<IPython.core.display.Markdown object>"
      ]
     },
     "metadata": {},
     "output_type": "display_data"
    },
    {
     "data": {
      "text/markdown": [
       "## Obdelujem 6/15: Barrow"
      ],
      "text/plain": [
       "<IPython.core.display.Markdown object>"
      ]
     },
     "metadata": {},
     "output_type": "display_data"
    },
    {
     "data": {
      "text/markdown": [
       "ℹ️ Podatki za Barrow so že pridobljeni. Preskočeno."
      ],
      "text/plain": [
       "<IPython.core.display.Markdown object>"
      ]
     },
     "metadata": {},
     "output_type": "display_data"
    },
    {
     "data": {
      "text/markdown": [
       "⏸️ Pavza 60 sekund..."
      ],
      "text/plain": [
       "<IPython.core.display.Markdown object>"
      ]
     },
     "metadata": {},
     "output_type": "display_data"
    },
    {
     "data": {
      "text/markdown": [
       "## Obdelujem 7/15: Cairo"
      ],
      "text/plain": [
       "<IPython.core.display.Markdown object>"
      ]
     },
     "metadata": {},
     "output_type": "display_data"
    },
    {
     "data": {
      "text/markdown": [
       "ℹ️ Podatki za Cairo so že pridobljeni. Preskočeno."
      ],
      "text/plain": [
       "<IPython.core.display.Markdown object>"
      ]
     },
     "metadata": {},
     "output_type": "display_data"
    },
    {
     "data": {
      "text/markdown": [
       "## Obdelujem 8/15: Buenos_Aires"
      ],
      "text/plain": [
       "<IPython.core.display.Markdown object>"
      ]
     },
     "metadata": {},
     "output_type": "display_data"
    },
    {
     "data": {
      "text/markdown": [
       "ℹ️ Podatki za Buenos_Aires so že pridobljeni. Preskočeno."
      ],
      "text/plain": [
       "<IPython.core.display.Markdown object>"
      ]
     },
     "metadata": {},
     "output_type": "display_data"
    },
    {
     "data": {
      "text/markdown": [
       "⏸️ Pavza 60 sekund..."
      ],
      "text/plain": [
       "<IPython.core.display.Markdown object>"
      ]
     },
     "metadata": {},
     "output_type": "display_data"
    },
    {
     "data": {
      "text/markdown": [
       "## Obdelujem 9/15: Cape_Town"
      ],
      "text/plain": [
       "<IPython.core.display.Markdown object>"
      ]
     },
     "metadata": {},
     "output_type": "display_data"
    },
    {
     "data": {
      "text/markdown": [
       "ℹ️ Podatki za Cape_Town so že pridobljeni. Preskočeno."
      ],
      "text/plain": [
       "<IPython.core.display.Markdown object>"
      ]
     },
     "metadata": {},
     "output_type": "display_data"
    },
    {
     "data": {
      "text/markdown": [
       "## Obdelujem 10/15: Moscow"
      ],
      "text/plain": [
       "<IPython.core.display.Markdown object>"
      ]
     },
     "metadata": {},
     "output_type": "display_data"
    },
    {
     "data": {
      "text/markdown": [
       "✅ Uspešno pridobljeni podatki za Moscow"
      ],
      "text/plain": [
       "<IPython.core.display.Markdown object>"
      ]
     },
     "metadata": {},
     "output_type": "display_data"
    },
    {
     "data": {
      "text/markdown": [
       "⏸️ Pavza 60 sekund..."
      ],
      "text/plain": [
       "<IPython.core.display.Markdown object>"
      ]
     },
     "metadata": {},
     "output_type": "display_data"
    },
    {
     "data": {
      "text/markdown": [
       "## Obdelujem 11/15: Anchorage"
      ],
      "text/plain": [
       "<IPython.core.display.Markdown object>"
      ]
     },
     "metadata": {},
     "output_type": "display_data"
    },
    {
     "data": {
      "text/markdown": [
       "✅ Uspešno pridobljeni podatki za Anchorage"
      ],
      "text/plain": [
       "<IPython.core.display.Markdown object>"
      ]
     },
     "metadata": {},
     "output_type": "display_data"
    },
    {
     "data": {
      "text/markdown": [
       "## Obdelujem 12/15: Mumbai"
      ],
      "text/plain": [
       "<IPython.core.display.Markdown object>"
      ]
     },
     "metadata": {},
     "output_type": "display_data"
    },
    {
     "data": {
      "text/markdown": [
       "✅ Uspešno pridobljeni podatki za Mumbai"
      ],
      "text/plain": [
       "<IPython.core.display.Markdown object>"
      ]
     },
     "metadata": {},
     "output_type": "display_data"
    },
    {
     "data": {
      "text/markdown": [
       "⏸️ Pavza 60 sekund..."
      ],
      "text/plain": [
       "<IPython.core.display.Markdown object>"
      ]
     },
     "metadata": {},
     "output_type": "display_data"
    },
    {
     "data": {
      "text/markdown": [
       "## Obdelujem 13/15: Mexico_City"
      ],
      "text/plain": [
       "<IPython.core.display.Markdown object>"
      ]
     },
     "metadata": {},
     "output_type": "display_data"
    },
    {
     "data": {
      "text/markdown": [
       "✅ Uspešno pridobljeni podatki za Mexico_City"
      ],
      "text/plain": [
       "<IPython.core.display.Markdown object>"
      ]
     },
     "metadata": {},
     "output_type": "display_data"
    },
    {
     "data": {
      "text/markdown": [
       "## Obdelujem 14/15: Ulaanbaatar"
      ],
      "text/plain": [
       "<IPython.core.display.Markdown object>"
      ]
     },
     "metadata": {},
     "output_type": "display_data"
    },
    {
     "data": {
      "text/markdown": [
       "✅ Uspešno pridobljeni podatki za Ulaanbaatar"
      ],
      "text/plain": [
       "<IPython.core.display.Markdown object>"
      ]
     },
     "metadata": {},
     "output_type": "display_data"
    },
    {
     "data": {
      "text/markdown": [
       "⏸️ Pavza 60 sekund..."
      ],
      "text/plain": [
       "<IPython.core.display.Markdown object>"
      ]
     },
     "metadata": {},
     "output_type": "display_data"
    },
    {
     "data": {
      "text/markdown": [
       "## Obdelujem 15/15: Honolulu"
      ],
      "text/plain": [
       "<IPython.core.display.Markdown object>"
      ]
     },
     "metadata": {},
     "output_type": "display_data"
    },
    {
     "data": {
      "text/markdown": [
       "✅ Uspešno pridobljeni podatki za Honolulu"
      ],
      "text/plain": [
       "<IPython.core.display.Markdown object>"
      ]
     },
     "metadata": {},
     "output_type": "display_data"
    },
    {
     "data": {
      "text/markdown": [
       "✅ Končano. Uspešno pridobljeni podatki za 6/15 lokacij."
      ],
      "text/plain": [
       "<IPython.core.display.Markdown object>"
      ]
     },
     "metadata": {},
     "output_type": "display_data"
    },
    {
     "data": {
      "text/markdown": [
       "## Pridobivanje podatkov končano!"
      ],
      "text/plain": [
       "<IPython.core.display.Markdown object>"
      ]
     },
     "metadata": {},
     "output_type": "display_data"
    }
   ],
   "source": [
    "import os\n",
    "import pandas as pd\n",
    "import requests\n",
    "from io import StringIO\n",
    "from IPython.display import Markdown, display\n",
    "import time\n",
    "import sys \n",
    "import sys\n",
    "import os\n",
    "\n",
    "# Dobi absolutno pot do razredi\n",
    "moduli_pot = os.path.abspath(\"razredi\")\n",
    "\n",
    "# Dodaj v sys.path če še ni tam\n",
    "if moduli_pot not in sys.path:\n",
    "    sys.path.insert(0, moduli_pot)\n",
    "\n",
    "# Sedaj lahko importiraš neposredno (brez 'razredi.' prefixa)\n",
    "from pridobi_podatke import PodatkovniUpravljalnik\n",
    "from nasa import NasaPodatki\n",
    "from open_meteo import OpenMeteoPodatki\n",
    "\n",
    "\n",
    "\n",
    "# ========================\n",
    "# NASTAVITVE POTI IN MAP\n",
    "# ========================\n",
    "OSNOVNA_MAPA = \"Podatki\"\n",
    "MAP_NEOPREDELANI = os.path.join(OSNOVNA_MAPA, \"ne_predelani\")\n",
    "MAP_PREDELANI = os.path.join(OSNOVNA_MAPA, \"predelani\")\n",
    "\n",
    "def ustvari_mapo(pot):\n",
    "    \"\"\"Ustvari mapo, če ta še ne obstaja\"\"\"\n",
    "    os.makedirs(pot, exist_ok=True)\n",
    "\n",
    "# Inicializacija\n",
    "try:\n",
    "    upravljalnik = PodatkovniUpravljalnik()\n",
    "    nasa = NasaPodatki(upravljalnik)\n",
    "    openmeteo = OpenMeteoPodatki(upravljalnik)\n",
    "\n",
    "# ========================\n",
    "# LOKACIJE S KLIMATSKIMI RAZREDI\n",
    "# ========================\n",
    "    lokacije = [\n",
    "        {'ime': 'Ljubljana', 'lat': 46.05, 'lon': 14.51, 'klima': 'Cfb'},\n",
    "        {'ime': 'Reykjavik', 'lat': 64.13, 'lon': -21.82, 'klima': 'Cfc'},\n",
    "        {'ime': 'Singapore', 'lat': 1.35, 'lon': 103.86, 'klima': 'Af'},\n",
    "        {'ime': 'Sydney', 'lat': -33.87, 'lon': 151.21, 'klima': 'Cfa'},\n",
    "        {'ime': 'Tokyo', 'lat': 35.68, 'lon': 139.77, 'klima': 'Cfa'},\n",
    "        {'ime': 'Barrow', 'lat': 71.29, 'lon': -156.79, 'klima': 'ET'},\n",
    "        {'ime': 'Cairo', 'lat': 30.04, 'lon': 31.24, 'klima': 'BWh'},\n",
    "        {'ime': 'Buenos_Aires', 'lat': -34.60, 'lon': -58.38, 'klima': 'Cfa'},\n",
    "        {'ime': 'Cape_Town', 'lat': -33.92, 'lon': 18.42, 'klima': 'Csb'},\n",
    "        {'ime': 'Moscow', 'lat': 55.76, 'lon': 37.62, 'klima': 'Dfb'},\n",
    "        {'ime': 'Anchorage', 'lat': 61.22, 'lon': -149.90, 'klima': 'Dsc'},\n",
    "        {'ime': 'Mumbai', 'lat': 19.08, 'lon': 72.88, 'klima': 'Aw'},\n",
    "        {'ime': 'Mexico_City', 'lat': 19.43, 'lon': -99.13, 'klima': 'Cwb'},\n",
    "        {'ime': 'Ulaanbaatar', 'lat': 47.92, 'lon': 106.92, 'klima': 'Dwb'},\n",
    "        {'ime': 'Honolulu', 'lat': 21.31, 'lon': -157.86, 'klima': 'As'}\n",
    "    ]\n",
    "\n",
    "\n",
    "# ========================\n",
    "# ZAGON PRIDOBIVANJA PODATKOV\n",
    "# ========================\n",
    "    if __name__ == \"__main__\":\n",
    "    # Ustvarimo poti do map, če še ne obstajajo\n",
    "        ustvari_mapo(MAP_NEOPREDELANI)\n",
    "        ustvari_mapo(MAP_PREDELANI)\n",
    "\n",
    "        # Pridobimo globalne podatke\n",
    "        display(Markdown(\"## Pridobivanje NASA podatkov...\"))\n",
    "        nasa_podatki = nasa.pridobi_podatke()\n",
    "\n",
    "        display(Markdown(\"## Pridobivanje OpenMeteo podatkov...\"))\n",
    "        openmeteo.pridobi_podatke_za_seznam(lokacije, \"1940-01-01\", \"2023-12-31\")\n",
    "\n",
    "        display(Markdown(\"## Pridobivanje podatkov končano!\"))\n",
    "except Exception as e:\n",
    "    display(Markdown(f\"❌ Kritična napaka: {str(e)}\"))"
   ]
  },
  {
   "cell_type": "code",
   "execution_count": 26,
   "id": "d337c8e7",
   "metadata": {},
   "outputs": [
    {
     "name": "stdout",
     "output_type": "stream",
     "text": [
      "['DataCollector', 'Path', '__builtins__', '__cached__', '__doc__', '__file__', '__loader__', '__name__', '__package__', '__spec__', 'pd', 'requests']\n"
     ]
    }
   ],
   "source": [
    "import razredi.pridobi_podatke\n",
    "print(dir(razredi.pridobi_podatke))\n"
   ]
  }
 ],
 "metadata": {
  "kernelspec": {
   "display_name": "Python 3",
   "language": "python",
   "name": "python3"
  },
  "language_info": {
   "codemirror_mode": {
    "name": "ipython",
    "version": 3
   },
   "file_extension": ".py",
   "mimetype": "text/x-python",
   "name": "python",
   "nbconvert_exporter": "python",
   "pygments_lexer": "ipython3",
   "version": "3.13.6"
  }
 },
 "nbformat": 4,
 "nbformat_minor": 5
}
