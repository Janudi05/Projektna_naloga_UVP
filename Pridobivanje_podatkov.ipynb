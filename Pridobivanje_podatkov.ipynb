{
 "cells": [
  {
   "cell_type": "markdown",
   "metadata": {},
   "source": [
    " # Pridobivanje globalnih podnebnih podatkov"
   ]
  },
  {
   "cell_type": "markdown",
   "metadata": {},
   "source": [
    "## 1. Uvod\n"
   ]
  },
  {
   "cell_type": "markdown",
   "metadata": {},
   "source": [
    " ## 2. Nastavitev okolja\n",
    " ### 2.1 Uvoz potrebnih knjižnic\n",
    "\n",
    "-  Pri pogonu ( `Run All` ) se avtomatsko naložijo vse potrebne knjižnice.\n",
    "\n",
    "-  V primeru napake, je treba prvo pognati funkcijo `zahteve_namestitev.py`, potem pa v tem notebooku `Restart Kernel` in ponovno `Run All`"
   ]
  },
  {
   "cell_type": "code",
   "execution_count": 1,
   "metadata": {},
   "outputs": [],
   "source": [
    "from zahteve_namestitev import instalacija\n",
    "instalacija()\n",
    "\n",
    "from datetime import datetime           # Datumi\n",
    "import pandas as pd                     # Pandas\n",
    "from tqdm import tqdm                   # Progress bar\n",
    "from pathlib import Path                # Poti do datotek\n",
    "import warnings                         # Prikazovanje težav\n",
    "import os                               # Operacijski sistem\n",
    "import logging                          # Shranjevanje in prikazovanje težav\n",
    "from meteostat import Point, Daily      # Geografska lokacija in dnevni podatki o temperaturi\n"
   ]
  },
  {
   "cell_type": "markdown",
   "metadata": {},
   "source": [
    " ### 2.2 Nastavimo poti in ustvarimo mape\n",
    "-  Nastavimo osnovne poti do map v uporabi,\n",
    "\n",
    "-  `.mkdir()` - Preveri obstoj potrebnih map in jih v primeru, da še ne obstajajo naredi;\n",
    "\n",
    "-  Nastavimo spremenljivki za začetni in končni datum,\n",
    "\n",
    "-  Preverimo lokacijo vseh map."
   ]
  },
  {
   "cell_type": "code",
   "execution_count": 2,
   "metadata": {},
   "outputs": [
    {
     "name": "stdout",
     "output_type": "stream",
     "text": [
      "\n",
      "Glavni imenik:      c:\\Users\\jan\\Projektna_naloga_UVP\n",
      "Mapa za podatke:    c:\\Users\\jan\\Projektna_naloga_UVP\\Podatki\\nepredelani\n",
      "Mapa za rezultate:  c:\\Users\\jan\\Projektna_naloga_UVP\\Podatki\\rezultati \n"
     ]
    }
   ],
   "source": [
    "Glavna_mapa = Path.cwd()\n",
    "Podatkovna_baza = Glavna_mapa / \"Podatki\" / \"nepredelani\"\n",
    "Rezultati = Glavna_mapa / \"Podatki\" / \"rezultati\"\n",
    "\n",
    "Podatkovna_baza.mkdir(parents=True, exist_ok=True)\n",
    "Rezultati.mkdir(parents=True, exist_ok=True)\n",
    "\n",
    "zacetek = datetime(1950, 1, 1)\n",
    "konec = datetime(2024, 12, 31)\n",
    "\n",
    "print(f\"\"\"\n",
    "Glavni imenik:      {Glavna_mapa}\n",
    "Mapa za podatke:    {Podatkovna_baza}\n",
    "Mapa za rezultate:  {Rezultati} \"\"\")"
   ]
  },
  {
   "cell_type": "markdown",
   "metadata": {},
   "source": [
    " ### 2.3 Pomožne skripte\n",
    "-  `ustvari_mapo()` - ustvari novo mapo na podani poti;\n",
    "\n",
    "-  `shrani_podatke()` - datoteko v formatu DataFrame pretvori v CSV in shrani pod imenom: \n",
    "   \n",
    "   `[ime]_[leto]_temperature.csv`"
   ]
  },
  {
   "cell_type": "code",
   "execution_count": 3,
   "metadata": {},
   "outputs": [],
   "source": [
    "def ustvari_mapo(pot):\n",
    "\n",
    "    os.makedirs(pot, exist_ok=True)\n",
    "\n",
    "def shrani_podatke(df, lokacija_ime, leto):\n",
    "\n",
    "    pot = Podatkovna_baza / lokacija_ime\n",
    "    ustvari_mapo(pot)\n",
    "    datoteka = pot / f\"{lokacija_ime}_{leto}_temperature.csv\"\n",
    "    df.to_csv(datoteka, index=False)"
   ]
  },
  {
   "cell_type": "markdown",
   "metadata": {},
   "source": [
    " ### 2.4 Lokacije\n",
    "-  Definiramo izbrane lokacije v slovarju,\n",
    "\n",
    "-  Poleg imena jim dodamo njihovo geografsko lokacijo.\n",
    "\n",
    "   ( latitude / `lat` = širina,  longitude / `lon` = dolžina )\""
   ]
  },
  {
   "cell_type": "code",
   "execution_count": 4,
   "metadata": {},
   "outputs": [],
   "source": [
    "lokacije = [\n",
    "    # Severna vzhodna polobla\n",
    "    {'ime': 'Tokyo', 'lat': 35.68, 'lon': 139.77},\n",
    "    {'ime': 'Berlin', 'lat': 52.52, 'lon': 13.41},\n",
    "    {'ime': 'Reykjavik', 'lat': 64.13, 'lon': -21.82},\n",
    "    {'ime': 'Prag', 'lat': 50.09, 'lon': 14.42},     \n",
    "\n",
    "    # Severna zahodna polobla\n",
    "    {'ime': 'Alert', 'lat': 82.50, 'lon': -62.33},\n",
    "    {'ime': 'Denver', 'lat': 39.74, 'lon': -104.99},\n",
    "    {'ime': 'Toronto', 'lat': 43.70, 'lon': -79.42},\n",
    "\n",
    "    # Južna vzhodna polobla\n",
    "    {'ime': 'Sydney', 'lat': -33.87, 'lon': 151.21},\n",
    "    {'ime': 'McMurdo_Station', 'lat': -77.85, 'lon': 166.67},\n",
    "    {'ime': 'Auckland', 'lat': -36.85, 'lon': 174.76},\n",
    "    \n",
    "    # Južna zahodna polobla\n",
    "    {'ime': 'Santiago', 'lat': -33.45, 'lon': -70.67},\n",
    "    {'ime': 'Lima', 'lat': -12.05, 'lon': -77.03},\n",
    "]\n"
   ]
  },
  {
   "cell_type": "markdown",
   "metadata": {},
   "source": [
    " ## 3 Pridobivanje podatkov\n",
    "\n",
    "-  `.filterwarnings()` in `.getLogger()` onemogočita pošiljanje prekomernih warningov\n",
    "\n",
    "-  Definiramo funkcijo `pridobi_podatke_za_lokacije`, ki pridobi podatke za vse\n",
    "   definirane lokacije v določenem časovnem obdobju.\n",
    "\n",
    "-  Zbiranje podatkov za vsako lokacijo se kaže preko progress bara (paket `tqdm`).\n",
    "\n",
    "-  V zanki `Try`, ki zajema morebitne napake, prvo nastavimo spremenljivki:\n",
    "    \n",
    "    - `tocka` na geografsko lokacijo kraja s funkcijo `Point()`\n",
    "       in `podatki` na vse dostopne dnevne informacije o vremenu s funkcijo `Daily()`.\n",
    "\n",
    "    - Funkcija `fetch()` nato pošlje zahtevo k Meteostat API in podatke dobi v obliki `df`\n",
    "       (DataFrame).\n",
    "\n",
    "    - Preoblikujemo DataFrame in nastavimo zahtevane stolpce. Nato preverimo obstoj stolpcev in jih po\n",
    "       potrebi ustvarimo. Če manjka podatek, dodamo v DataFrame `None`.\n",
    "\n",
    "    -  Če v kateri vrstici manjka podatek za povprečno temperaturo (`tavg`), ga izračunamo iz minimaln\n",
    "       (`tmin`) in maksimalne temperature (`tmax`).\n",
    "\n",
    "    -  Vse podatke zaokrožimo na 1 decimalko natančno in manjkajoče podatke nadomestimo s praznimi stringi.\n",
    "\n",
    "    -  S funkcijo `shrani_podatke()` v Dataframe shranimo podatke po dnevih za eno leto.\n",
    "\n",
    "-  Kličemo `pridobi_podatke_za_lokacije()`, ki shrani rezultate pridobivanja podatkov v\n",
    "   spremenljivki `uspeh` in `neuspeh`."
   ]
  },
  {
   "cell_type": "code",
   "execution_count": 5,
   "metadata": {},
   "outputs": [
    {
     "name": "stderr",
     "output_type": "stream",
     "text": [
      " Lima           : 100%|██████████████████████████████[00:00]    "
     ]
    },
    {
     "name": "stdout",
     "output_type": "stream",
     "text": [
      "\n",
      "Uspešno:  12 lokacij\n",
      "Neuspešno: 0 lokacij\n",
      "Mapa s podatki: c:\\Users\\jan\\Projektna_naloga_UVP\\Podatki\\nepredelani \n"
     ]
    },
    {
     "name": "stderr",
     "output_type": "stream",
     "text": [
      "\n"
     ]
    }
   ],
   "source": [
    "# Onemogočanje sporočil (warnings)\n",
    "warnings.filterwarnings('ignore')\n",
    "logging.getLogger('meteostat').setLevel(logging.CRITICAL)\n",
    "logging.getLogger('urllib3').setLevel(logging.CRITICAL)\n",
    "\n",
    "\n",
    "def pridobi_podatke_za_lokacije(lokacije, zacetek, konec):\n",
    "\n",
    "    uspeh = 0\n",
    "    neuspeh = 0\n",
    "\n",
    "    with tqdm(lokacije, \n",
    "              desc=\" Pridobivanje podatkov :\",\n",
    "              bar_format=\"{l_bar}{bar:30}[{remaining}]\"\n",
    "              ) as pbar:\n",
    "        for lokacija in pbar:\n",
    "            pbar.set_description(f\"{lokacija['ime'][:15]:<15}\") \n",
    "            \n",
    "            try:\n",
    "                tocka = Point(lokacija['lat'], lokacija['lon'])\n",
    "                pbar.set_description(f\" {lokacija['ime'].ljust(15)}\")\n",
    "\n",
    "                podatki = Daily(tocka, zacetek, konec)\n",
    "                df = podatki.fetch()\n",
    "\n",
    "                if df is None or df.empty:\n",
    "                    neuspeh += 1\n",
    "                    continue\n",
    "                \n",
    "                df = df.reset_index()\n",
    "                stolpci = ['time', 'tavg', 'tmin', 'tmax', 'prcp', 'snow']\n",
    "                \n",
    "                # Preverimo/ustvarimo stolpce:\n",
    "                for stolpec in stolpci:\n",
    "                    if stolpec not in df.columns:\n",
    "                        if stolpec == 'time':\n",
    "                            continue\n",
    "                        df[stolpec] = None\n",
    "                \n",
    "                # Izračun tavg:\n",
    "                if 'tmin' in df.columns and 'tmax' in df.columns:\n",
    "                    for index, row in df.iterrows():\n",
    "                        if (pd.notnull(row['tmin']) and pd.notnull(row['tmax']) and \n",
    "                            ('tavg' not in df.columns or pd.isnull(row['tavg']))):\n",
    "\n",
    "                            tavg_value = (row['tmin'] + row['tmax']) / 2\n",
    "\n",
    "                            if 'tavg' not in df.columns:\n",
    "                                df['tavg'] = None\n",
    "\n",
    "                            df.at[index, 'tavg'] = tavg_value\n",
    "\n",
    "                # Zaokrožimo:\n",
    "                for stolpec in ['tavg', 'tmin', 'tmax', 'prcp', 'snow']:\n",
    "                    if stolpec in df.columns:\n",
    "                        df[stolpec] = df[stolpec].apply(lambda x: round(x, 1) if isinstance(x, (int, float)) and not pd.isnull(x) else x)\n",
    "\n",
    "                # Manjkajoči podatki:\n",
    "                for stolpec in ['tavg', 'tmin', 'tmax', 'prcp', 'snow']:\n",
    "                    if stolpec in df.columns:\n",
    "                        df[stolpec] = df[stolpec].apply(lambda x: '' if pd.isnull(x) else x)\n",
    "                \n",
    "                df = df[stolpci].copy()\n",
    "                \n",
    "                # Shrani podatke po letih\n",
    "                leta = df['time'].dt.year.unique()\n",
    "                with tqdm(leta, desc=f\"Shranjujem {lokacija['ime']}\", leave=False) as year_pbar:\n",
    "                    for leto in year_pbar:\n",
    "                        df_leto = df[df['time'].dt.year == leto].copy()\n",
    "                        \n",
    "                        has_data = False\n",
    "                        for stolpec in ['tavg', 'tmin', 'tmax', 'prcp', 'snow']:\n",
    "                            if stolpec in df_leto.columns and not all(str(x).strip() == '' for x in df_leto[stolpec] if x is not None):\n",
    "                                has_data = True\n",
    "                                break\n",
    "                        \n",
    "                        if has_data:\n",
    "                            shrani_podatke(df_leto, lokacija['ime'], leto)\n",
    "                \n",
    "                uspeh += 1\n",
    "\n",
    "            except Exception as e:\n",
    "\n",
    "                if \"No data available\" in str(e):\n",
    "                    neuspeh += 1\n",
    "                    continue\n",
    "\n",
    "                print(f\"Napaka pri {lokacija['ime']}: {str(e)}\")\n",
    "\n",
    "                neuspeh += 1\n",
    "        return uspeh, neuspeh\n",
    "\n",
    "uspeh, neuspeh = pridobi_podatke_za_lokacije(lokacije, zacetek, konec)\n",
    "\n",
    "print(f\"\"\"\n",
    "Uspešno:  {uspeh} lokacij\n",
    "Neuspešno: {neuspeh} lokacij\n",
    "Mapa s podatki: {Podatkovna_baza} \"\"\")\n"
   ]
  }
 ],
 "metadata": {
  "kernelspec": {
   "display_name": "Python 3",
   "language": "python",
   "name": "python3"
  },
  "language_info": {
   "codemirror_mode": {
    "name": "ipython",
    "version": 3
   },
   "file_extension": ".py",
   "mimetype": "text/x-python",
   "name": "python",
   "nbconvert_exporter": "python",
   "pygments_lexer": "ipython3",
   "version": "3.12.4"
  }
 },
 "nbformat": 4,
 "nbformat_minor": 4
}
