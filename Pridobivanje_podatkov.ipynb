{
 "cells": [
  {
   "cell_type": "markdown",
   "metadata": {},
   "source": [
    " # Pridobivanje globalnih podnebnih podatkov"
   ]
  },
  {
   "cell_type": "markdown",
   "metadata": {},
   "source": [
    "## 1. Uvod\n"
   ]
  },
  {
   "cell_type": "markdown",
   "metadata": {},
   "source": [
    " ## 2. Nastavitev okolja\n",
    " ### 2.1 Uvoz potrebnih knjižnic\n",
    "\n",
    "-  Pri pogonu ( `Run All` ) se avtomatsko naložijo vse potrebne knjižnice.\n",
    "\n",
    "-  V primeru napake, je treba prvo pognati funkcijo `zahteve_namestitev.py`, potem pa v tem notebooku `Restart Kernel` in ponovno `Run All`"
   ]
  },
  {
   "cell_type": "code",
   "execution_count": 16,
   "metadata": {},
   "outputs": [
    {
     "name": "stdout",
     "output_type": "stream",
     "text": [
      "🔧 Nameščam 1 manjkajočih paketov...\n",
      "✅ Paketi uspešno nameščeni\n",
      "🔄 Ponovno zaganjam kernel...\n"
     ]
    },
    {
     "data": {
      "application/javascript": "IPython.notebook.kernel.restart()",
      "text/plain": [
       "<IPython.core.display.Javascript object>"
      ]
     },
     "metadata": {},
     "output_type": "display_data"
    }
   ],
   "source": [
    "from zahteve_namestitev import instalacija\n",
    "instalacija()\n",
    "\n",
    "import matplotlib.pyplot as plt         # Grafi\n",
    "from datetime import datetime           # Datumi\n",
    "import pandas as pd                     # Pandas\n",
    "import numpy as np                      # Numerično\n",
    "from scipy import stats                 # Statistika\n",
    "from tqdm import tqdm                   # Progress bar\n",
    "from pathlib import Path                # Poti do datotek\n",
    "import glob                             # Iskanje datotek\n",
    "import warnings                         # Prikazovanje težav\n",
    "import os                               # Operacijski sistem\n",
    "import seaborn as sns                   # Statistične vizualizacije\n",
    "from meteostat import Point, Daily      # Geografska lokacija in dnevni podatki o temperaturi"
   ]
  },
  {
   "cell_type": "markdown",
   "metadata": {},
   "source": [
    " ### 2.2 Nastavimo poti in ustvarimo mape\n",
    "-  Nastavimo osnovne poti do map v uporabi,\n",
    "\n",
    "-  `.mkdir()` - Preveri obstoj potrebnih map in jih v primeru, da še ne obstajajo naredi;\n",
    "\n",
    "-  Nastavimo spremenljivki za začetni in končni datum,\n",
    "\n",
    "-  Preverimo lokacijo vseh map."
   ]
  },
  {
   "cell_type": "code",
   "execution_count": 17,
   "metadata": {},
   "outputs": [
    {
     "name": "stdout",
     "output_type": "stream",
     "text": [
      "\n",
      "Glavni imenik:      c:\\Users\\jan\\Projektna_naloga_UVP\n",
      "Mapa za podatke:    c:\\Users\\jan\\Projektna_naloga_UVP\\Podatki\\nepredelani\n",
      "Mapa za rezultate:  c:\\Users\\jan\\Projektna_naloga_UVP\\Podatki\\rezultati \n"
     ]
    }
   ],
   "source": [
    "Glavna_mapa = Path.cwd()\n",
    "Podatkovna_baza = Glavna_mapa / \"Podatki\" / \"nepredelani\"\n",
    "Rezultati = Glavna_mapa / \"Podatki\" / \"rezultati\"\n",
    "\n",
    "Podatkovna_baza.mkdir(parents=True, exist_ok=True)\n",
    "Rezultati.mkdir(parents=True, exist_ok=True)\n",
    "\n",
    "zacetek = datetime(1950, 1, 1)\n",
    "konec = datetime(2023, 12, 31)\n",
    "\n",
    "print(f\"\"\"\n",
    "Glavni imenik:      {Glavna_mapa}\n",
    "Mapa za podatke:    {Podatkovna_baza}\n",
    "Mapa za rezultate:  {Rezultati} \"\"\")"
   ]
  },
  {
   "cell_type": "markdown",
   "metadata": {},
   "source": [
    " ### 2.3 Pomožne skripte\n",
    "-  `ustvari_mapo()` - ustvari novo mapo na podani poti;\n",
    "\n",
    "-  `shrani_podatke()` - datoteko v formatu DataFrame pretvori v CSV in shrani pod imenom: \n",
    "   \n",
    "   `[ime]_[leto]_temperature.csv`"
   ]
  },
  {
   "cell_type": "code",
   "execution_count": 18,
   "metadata": {},
   "outputs": [],
   "source": [
    "def ustvari_mapo(pot):\n",
    "\n",
    "    os.makedirs(pot, exist_ok=True)\n",
    "\n",
    "def shrani_podatke(df, lokacija_ime, leto):\n",
    "\n",
    "    pot = Podatkovna_baza / lokacija_ime\n",
    "    ustvari_mapo(pot)\n",
    "    datoteka = pot / f\"{lokacija_ime}_{leto}_temperature.csv\"\n",
    "    df.to_csv(datoteka, index=False)"
   ]
  },
  {
   "cell_type": "markdown",
   "metadata": {},
   "source": [
    " ### 2.4 Lokacije\n",
    "-  Definiramo izbrane lokacije v slovarju,\n",
    "\n",
    "-  Poleg imena jim dodamo njihovo geografsko lokacijo in `klimatski_pas`.\n",
    "\n",
    "   ( latitude / `lat` = širina,  longitude / `lon` = dolžina )\""
   ]
  },
  {
   "cell_type": "code",
   "execution_count": 19,
   "metadata": {},
   "outputs": [],
   "source": [
    "lokacije = [\n",
    "    # Severna vzhodna polobla (Evropa, Azija)\n",
    "    {'ime': 'Tokyo', 'lat': 35.68, 'lon': 139.77},       # Azija - zmerno podnebje (vaša izbira)\n",
    "    {'ime': 'Berlin', 'lat': 52.52, 'lon': 13.41},       # Evropa - kontinentalno (vaša izbira)\n",
    "    {'ime': 'Reykjavik', 'lat': 64.13, 'lon': -21.82},   # Subarktično (premaknjeno iz severne zahodne)\n",
    "    {'ime': 'Prag', 'lat': 50.09, 'lon': 14.42},        # 98% (zmerno)\n",
    "    # Severna zahodna polobla (Severna Amerika)\n",
    "    {'ime': 'Alert', 'lat': 82.50, 'lon': -62.33},     # Arktična podnebna cona (najsevernejša stalna postaja na svetu)\n",
    "    {'ime': 'Denver', 'lat': 39.74, 'lon': -104.99},     # Višinsko podnebje (vaša izbira)\n",
    "    {'ime': 'Toronto', 'lat': 43.70, 'lon': -79.42},     # 88% → 92% (kontinentalno)\n",
    "    # Južna vzhodna polobla (Avstralija, Antarktika)\n",
    "    {'ime': 'Sydney', 'lat': -33.87, 'lon': 151.21},     # Subtropsko (vaša izbira)\n",
    "    {'ime': 'McMurdo_Station', 'lat': -77.85, 'lon': 166.67}, # Polarno (vaša izbira)\n",
    "    {'ime': 'Auckland', 'lat': -36.85, 'lon': 174.76}, # 89% → 93% (morsko)\n",
    "    # Južna zahodna polobla (Južna Amerika)\n",
    "    {'ime': 'Santiago', 'lat': -33.45, 'lon': -70.67},   # Sredozemsko (vaša izbira)\n",
    "    {'ime': 'Lima', 'lat': -12.05, 'lon': -77.03},      # 70% → ~82% (interpolirano, puščavsko)\n",
    "]\n"
   ]
  },
  {
   "cell_type": "markdown",
   "metadata": {},
   "source": [
    " ## 3 Pridobivanje podatkov\n",
    "-  Definiramo funkcijo `pridobi_podatke_za_lokacije`, ki pridobi podatke za vse\n",
    "   definirane lokacije v določenem časovnem obdobju.\n",
    "\n",
    "-  Zbiranje podatkov za vsako lokacijo znotraj zanke `for` se kaže preko progress bara (paket `tqdm`).\n",
    "\n",
    "-  V zanki `Try`, ki zajema morebitne napake, prvo nastavimo spremenljivki:\n",
    "    \n",
    "    -  Spremenljivko `tocka` na geografsko lokacijo kraja s funkcijo `Point()`\n",
    "       in spremenljivko `podatki` na vse dostopne dnevne informacije o vremenu s funkcijo `Daily()`.\n",
    "\n",
    "    -  Funkcija `fetch()` nato pošlje zahtevo k Meteostat API in podatke dobi v obliki `df`\n",
    "       (DataFrame).\n",
    "\n",
    "    -  DataFrame-u spremenimo strukturo in znotraj zanke `for` s funkcijo `shrani_podatke()`\n",
    "    vanj shranimo podatke po dnevih za eno leto \n",
    "\n",
    "-  Klic funkcije `pridobi_podatke_za_lokacije()` shrani rezultate pridobivanja podatkov v\n",
    "   spremenljivki `uspeh` in `neuspeh`"
   ]
  },
  {
   "cell_type": "code",
   "execution_count": null,
   "metadata": {},
   "outputs": [
    {
     "name": "stderr",
     "output_type": "stream",
     "text": [
      " Lima           : 100%|██████████████████████████████[00:00]    "
     ]
    },
    {
     "name": "stdout",
     "output_type": "stream",
     "text": [
      "\n",
      "Uspešno:  12 lokacij\n",
      "Neuspešno: 0 lokacij\n",
      "Mapa za podatke: c:\\Users\\jan\\Projektna_naloga_UVP\\Podatki\\nepredelani \n"
     ]
    },
    {
     "name": "stderr",
     "output_type": "stream",
     "text": [
      "\n"
     ]
    }
   ],
   "source": [
    "import time\n",
    "def pridobi_podatke_za_lokacije(lokacije, zacetek, konec):\n",
    "\n",
    "    uspeh = 0\n",
    "    neuspeh = 0\n",
    "\n",
    "    with tqdm(lokacije, \n",
    "              desc=\" Pridobivanje podatkov :\",\n",
    "              bar_format=\"{l_bar}{bar:30}[{remaining}]\"\n",
    "              ) as pbar:\n",
    "        for lokacija in pbar:\n",
    "            pbar.set_description(f\"🔍 {lokacija['ime'][:15]:<15}\") \n",
    "            \n",
    "            try:\n",
    "                tocka = Point(lokacija['lat'], lokacija['lon'])\n",
    "\n",
    "                pbar.set_description(f\" {lokacija['ime'].ljust(15)}\")\n",
    "\n",
    "                podatki = Daily(tocka, zacetek, konec)\n",
    "                df = podatki.fetch()\n",
    "\n",
    "                if df is None or df.empty:\n",
    "                    neuspeh += 1   #Preveri DataFrame\n",
    "                    pbar.set_postfix_str(\" Ni podatkov\", refresh=False)\n",
    "                    continue\n",
    "                \n",
    "                df = df.reset_index()\n",
    "                if 'tavg' in df.columns:\n",
    "                    df['temperatura_avg'] = df['tavg']\n",
    "                else:\n",
    "                    df['temperatura_avg'] = None\n",
    "\n",
    "                df = df[['time', 'temperatura_avg']].copy()\n",
    "\n",
    "                leta = df['time'].dt.year.unique()\n",
    "                with tqdm(leta, desc=f\"Shranjujem {lokacija['ime']}\", leave=False) as year_pbar:\n",
    "                    for leto in year_pbar:\n",
    "                        df_leto = df[df['time'].dt.year == leto].copy()\n",
    "                        if not df_leto['temperatura_avg'].isnull().all():\n",
    "                            shrani_podatke(df_leto, lokacija['ime'], leto)\n",
    "                \n",
    "                uspeh += 1\n",
    "\n",
    "            except Exception as e:\n",
    "                # Bolj specifičen error handling\n",
    "                if \"No data available\" in str(e):\n",
    "                    neuspeh += 1\n",
    "                    continue\n",
    "                print(f\"Napaka pri {lokacija['ime']}: {str(e)}\")\n",
    "                neuspeh += 1\n",
    "    \n",
    "        return uspeh, neuspeh\n",
    "\n",
    "uspeh, neuspeh = pridobi_podatke_za_lokacije(lokacije, zacetek, konec)\n",
    "\n",
    "print(f\"\"\"\n",
    "Uspešno:  {uspeh} lokacij\n",
    "Neuspešno: {neuspeh} lokacij\n",
    "Mapa s podatki: {Podatkovna_baza} \"\"\")\n"
   ]
  }
 ],
 "metadata": {
  "kernelspec": {
   "display_name": "Python 3",
   "language": "python",
   "name": "python3"
  },
  "language_info": {
   "codemirror_mode": {
    "name": "ipython",
    "version": 3
   },
   "file_extension": ".py",
   "mimetype": "text/x-python",
   "name": "python",
   "nbconvert_exporter": "python",
   "pygments_lexer": "ipython3",
   "version": "3.12.4"
  }
 },
 "nbformat": 4,
 "nbformat_minor": 4
}
