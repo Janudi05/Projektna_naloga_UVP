{
 "cells": [
  {
   "cell_type": "markdown",
   "metadata": {},
   "source": [
    " # Analiza podnebnih podatkov"
   ]
  },
  {
   "cell_type": "markdown",
   "metadata": {},
   "source": [
    " ## 1. Uvod"
   ]
  },
  {
   "cell_type": "markdown",
   "metadata": {},
   "source": [
    " Ta projekt vsebuje celovito rešitev za pridobivanje in analizo podnebnih podatkov za različna mesta po svetu. Sestavljen je iz treh glavnih delov:\n",
    "\n",
    "\n",
    "\n",
    " 1. **Pridobivanje podatkov**: Skripti za pridobivanje podatkov iz Meteostat API\n",
    "\n",
    " 2. **Analiza podatkov**: Obdelava in statistična analiza\n",
    "\n",
    " 3. **Vizualizacija**: Grafični prikaz rezultatov"
   ]
  },
  {
   "cell_type": "markdown",
   "metadata": {},
   "source": [
    " ## 2. Nastavitev okolja"
   ]
  },
  {
   "cell_type": "markdown",
   "metadata": {},
   "source": [
    " ### 2.1 Uvoz potrebnih knjižnic\n",
    "\n",
    "-  Pri pogonu se avtomatsko naložijo vse potrebne knjižnice,\n",
    "   potreben pa je ponovni zagon notebooka (Restart  => Run All)"
   ]
  },
  {
   "cell_type": "code",
   "execution_count": 1,
   "metadata": {},
   "outputs": [
    {
     "data": {
      "text/plain": [
       "True"
      ]
     },
     "execution_count": 1,
     "metadata": {},
     "output_type": "execute_result"
    }
   ],
   "source": [
    "import os                               # Operacijski sistem\n",
    "from datetime import datetime           # Datumi\n",
    "import pandas as pd                     # Pandas\n",
    "from meteostat import Point, Daily      # Geografska lokacija in dnevni podatki\n",
    "from tqdm import tqdm                   # Progress bar\n",
    "import numpy as np                      # Numerično\n",
    "from scipy import stats                 # Statistika\n",
    "from pathlib import Path                # Poti do datotek\n",
    "import glob                             # Iskanje datotek\n",
    "import matplotlib.pyplot as plt         # Grafi\n",
    "import seaborn as sns                   # Statistične vizualizacije\n",
    "\n",
    "from zahteve_namestitev import instalacija\n",
    "instalacija()"
   ]
  },
  {
   "cell_type": "markdown",
   "metadata": {},
   "source": [
    " ## 3. Pridobivanje podatkov"
   ]
  },
  {
   "cell_type": "markdown",
   "metadata": {},
   "source": [
    " ### 3.1 Pomožne skripte za pridobivanje podatkov"
   ]
  },
  {
   "cell_type": "markdown",
   "metadata": {},
   "source": [
    "-  `ustvari_mapo()`\n",
    "\n",
    "-  `shrani_podatke()` - za posamezno lokacijo in leto v CSV formatu"
   ]
  },
  {
   "cell_type": "markdown",
   "metadata": {},
   "source": [
    " ### 3.2 Definiramo izbrane lokacije\n",
    "\n",
    " globus\n"
   ]
  },
  {
   "cell_type": "markdown",
   "metadata": {},
   "source": [
    " ### 3.3 Pridobivanje podatkov"
   ]
  },
  {
   "cell_type": "markdown",
   "metadata": {},
   "source": [
    "Nastavimo parametre, začetni in končni datum in definiramo funkcijo:\n",
    "\n",
    "-  Funkcija `pridobi_podatke_za_lokacije` Pridobi podatke za vse definirane\n",
    "   lokacije v določenem časovnem obdobju.\n",
    "\n",
    "-  Zbiranje podatkov znotraj zanke (`for`) se kaže preko progress bara\n",
    "\n",
    "-  `Try` zajema morebitne napake, v spremenljivko `tocka` se ustvari geografska\n",
    "\n",
    "    lokacija iz zempljepisne širine (`lon`) in dolžine (`lat`)\n",
    "\n",
    "-  `Daily()` - template za dnevne podatke\n",
    "\n",
    "-  `fetch()` pošlje zahtevo k Meteostat API in podatke dobi v obliki `df`\n",
    "    (DataFrame)"
   ]
  },
  {
   "cell_type": "markdown",
   "metadata": {},
   "source": [
    " ###  3.4  Obdelava podatkov"
   ]
  },
  {
   "cell_type": "markdown",
   "metadata": {},
   "source": [
    "\n",
    "-   Funkcija `reset_index()` ponastavi indeks df.\n",
    "\n",
    "-   Ustvari stolpec `temperatura_avg`\n",
    "\n",
    "-  `dt.year.unique()` poišče unikatna leta v podatkih\n",
    "\n",
    "-   Funkcija `shrani_podatke()` za vsako leto"
   ]
  },
  {
   "cell_type": "markdown",
   "metadata": {},
   "source": [
    " ###  3.5  Napake"
   ]
  },
  {
   "cell_type": "markdown",
   "metadata": {},
   "source": [
    "-  Izpiše ime lokacije in opis napake\n",
    "\n",
    "-  Klic funkcije `pridobi_podatke_za_lokacije()` shrani rezultate v\n",
    "   spremenljivki `uspeh` in `neuspeh`"
   ]
  },
  {
   "cell_type": "markdown",
   "metadata": {},
   "source": [
    " ## 4. Analiza podatkov"
   ]
  },
  {
   "cell_type": "markdown",
   "metadata": {},
   "source": [
    " ### 4.1 Nalaganje in predobdelava podatkov"
   ]
  },
  {
   "cell_type": "markdown",
   "metadata": {},
   "source": [
    "Funkcija `nalozi_podatke_mesta` naloži in združi podatke\n",
    "\n",
    " -  `os.path.join()` - vzorec za iskanje datotek po imenu mesta\n",
    "\n",
    " -  `glob.glob()` - poišče ustrezne datoteke\n",
    "\n",
    " -  `vsi_podatki` - pripravljen prazen seznam za shranjevanje df\n",
    "\n",
    " -  for `datoteka` in `tqdm`() - progress bar\n",
    "\n",
    " -  `pd.read_csv()` - prebere CSV in pretvori time v datetime object\n",
    "\n",
    " -  `df.rename()` - spremeni ime stolpca (time => datum)\n",
    "\n",
    " -  `df.dropna()` - odstrani pomankljive vrstice\n",
    "\n",
    " -  `df[]` - doda stolpec z letom, mesecem in mestom\n",
    "\n",
    " -  `pd.concoat()` - združi DataFrame in jih uredu po datumu\n"
   ]
  },
  {
   "cell_type": "markdown",
   "metadata": {},
   "source": [
    " ### 4.2 Statistična analiza"
   ]
  },
  {
   "cell_type": "markdown",
   "metadata": {},
   "source": [
    " ### 4.3 Zagon celotne analize"
   ]
  },
  {
   "cell_type": "markdown",
   "metadata": {},
   "source": [
    " ## 5. Vizualizacija rezultatov"
   ]
  },
  {
   "cell_type": "markdown",
   "metadata": {},
   "source": [
    " ### 5.2 Trendi segrevanja po mestih"
   ]
  },
  {
   "cell_type": "markdown",
   "metadata": {},
   "source": [
    " ### 5.3 Odvisnost trendov od geografske širine"
   ]
  },
  {
   "cell_type": "markdown",
   "metadata": {},
   "source": [
    " ## 6. Interpretacija rezultatov"
   ]
  },
  {
   "cell_type": "markdown",
   "metadata": {},
   "source": [
    " ### 6.1 Ključne ugotovitve"
   ]
  },
  {
   "cell_type": "markdown",
   "metadata": {},
   "source": [
    " ### 6.2 Zaključek"
   ]
  },
  {
   "cell_type": "markdown",
   "metadata": {},
   "source": [
    " ## 7. Tehnične specifikacije"
   ]
  },
  {
   "cell_type": "markdown",
   "metadata": {},
   "source": [
    " ## 8. Dodatni materiali / viri\n",
    "\n",
    " - [Dokumentacija Meteostat API](https://dev.meteostat.net/)\n",
    "\n",
    " - [Tehnike analize klimatskih podatkov](https://climatedataguide.ucar.edu/climate-tools)\n"
   ]
  }
 ],
 "metadata": {
  "kernelspec": {
   "display_name": "Python 3",
   "language": "python",
   "name": "python3"
  },
  "language_info": {
   "codemirror_mode": {
    "name": "ipython",
    "version": 3
   },
   "file_extension": ".py",
   "mimetype": "text/x-python",
   "name": "python",
   "nbconvert_exporter": "python",
   "pygments_lexer": "ipython3",
   "version": "3.12.4"
  }
 },
 "nbformat": 4,
 "nbformat_minor": 4
}
