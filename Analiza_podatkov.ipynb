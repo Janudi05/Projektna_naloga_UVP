{
 "cells": [
  {
   "cell_type": "markdown",
   "metadata": {},
   "source": [
    " # Analiza podnebnih podatkov"
   ]
  },
  {
   "cell_type": "markdown",
   "metadata": {},
   "source": [
    " ## 1. Uvod"
   ]
  },
  {
   "cell_type": "markdown",
   "metadata": {},
   "source": [
    " Ta projekt vsebuje celovito rešitev za pridobivanje in analizo podnebnih podatkov za različna mesta po svetu. Sestavljen je iz treh glavnih delov:\n",
    "\n",
    "\n",
    "\n",
    " 1. **Pridobivanje podatkov**: Skripti za pridobivanje podatkov iz Meteostat API\n",
    "\n",
    " 2. **Analiza podatkov**: Obdelava in statistična analiza\n",
    "\n",
    " 3. **Vizualizacija**: Grafični prikaz rezultatov"
   ]
  },
  {
   "cell_type": "markdown",
   "metadata": {},
   "source": [
    " ## 2. Nastavitev okolja"
   ]
  },
  {
   "cell_type": "markdown",
   "metadata": {},
   "source": [
    " ### 2.1 Uvoz potrebnih knjižnic\n",
    "\n",
    "-  Pri pogonu se avtomatsko naložijo vse potrebne knjižnice,\n",
    "   potreben pa je ponovni zagon notebooka (Restart  => Run All)"
   ]
  },
  {
   "cell_type": "code",
   "execution_count": 1,
   "metadata": {},
   "outputs": [
    {
     "data": {
      "text/plain": [
       "True"
      ]
     },
     "execution_count": 1,
     "metadata": {},
     "output_type": "execute_result"
    }
   ],
   "source": [
    "import os                               # Operacijski sistem\n",
    "from datetime import datetime           # Datumi\n",
    "import pandas as pd                     # Pandas\n",
    "from meteostat import Point, Daily      # Geografska lokacija in dnevni podatki\n",
    "from tqdm import tqdm                   # Progress bar\n",
    "import numpy as np                      # Numerično\n",
    "from scipy import stats                 # Statistika\n",
    "from pathlib import Path                # Poti do datotek\n",
    "import glob                             # Iskanje datotek\n",
    "import matplotlib.pyplot as plt         # Grafi\n",
    "import seaborn as sns                   # Statistične vizualizacije\n",
    "\n",
    "from zahteve_namestitev import instalacija\n",
    "instalacija()"
   ]
  },
  {
   "cell_type": "markdown",
   "metadata": {},
   "source": [
    " ### 2.2 Spremenljivke in poti"
   ]
  },
  {
   "cell_type": "markdown",
   "metadata": {},
   "source": [
    "-  Nastavimo osnovne poti in potrebne mape\n",
    "\n",
    "-  Naprintamo spravljene spremenljivke"
   ]
  },
  {
   "cell_type": "code",
   "execution_count": 2,
   "metadata": {},
   "outputs": [
    {
     "name": "stdout",
     "output_type": "stream",
     "text": [
      " Osnovni imenik projekta: c:\\Users\\Uporabnik\\Projektna_naloga_UVP\n",
      " Mapa za podatke: c:\\Users\\Uporabnik\\Projektna_naloga_UVP\\Podatki\\ne_predelani\n",
      " Mapa za rezultate: c:\\Users\\Uporabnik\\Projektna_naloga_UVP\\Podatki\\rezultati\n"
     ]
    }
   ],
   "source": [
    "BASE_DIR = Path.cwd()\n",
    "DATA_DIR = BASE_DIR / \"Podatki\" / \"ne_predelani\"\n",
    "RESULTS_DIR = BASE_DIR / \"Podatki\" / \"rezultati\"\n",
    "\n",
    "DATA_DIR.mkdir(parents=True, exist_ok=True)\n",
    "RESULTS_DIR.mkdir(parents=True, exist_ok=True)\n",
    "\n",
    "print(f\" Osnovni imenik projekta: {BASE_DIR}\")\n",
    "print(f\" Mapa za podatke: {DATA_DIR}\")\n",
    "print(f\" Mapa za rezultate: {RESULTS_DIR}\")\n"
   ]
  },
  {
   "cell_type": "markdown",
   "metadata": {},
   "source": [
    " ## 3. Pridobivanje podatkov"
   ]
  },
  {
   "cell_type": "markdown",
   "metadata": {},
   "source": [
    " ### 3.1 Pomožne skripte za pridobivanje podatkov"
   ]
  },
  {
   "cell_type": "markdown",
   "metadata": {},
   "source": [
    "-  `ustvari_mapo()`\n",
    "\n",
    "-  `shrani_podatke()` - za posamezno lokacijo in leto v CSV formatu"
   ]
  },
  {
   "cell_type": "code",
   "execution_count": 3,
   "metadata": {},
   "outputs": [],
   "source": [
    "def ustvari_mapo(pot):\n",
    "\n",
    "    os.makedirs(pot, exist_ok=True)\n",
    "\n",
    "def shrani_podatke(df, lokacija_ime, leto):\n",
    "\n",
    "    pot = DATA_DIR / lokacija_ime\n",
    "    ustvari_mapo(pot)\n",
    "    datoteka = pot / f\"{lokacija_ime}_{leto}_temperature.csv\"\n",
    "    df.to_csv(datoteka, index=False)"
   ]
  },
  {
   "cell_type": "markdown",
   "metadata": {},
   "source": [
    " ### 3.2 Definiramo izbrane lokacije"
   ]
  },
  {
   "cell_type": "code",
   "execution_count": 4,
   "metadata": {},
   "outputs": [],
   "source": [
    "lokacije = [\n",
    "    {'ime': 'Ljubljana', 'lat': 46.05, 'lon': 14.51, 'klimatski_pas': 'Zmerni'},\n",
    "    {'ime': 'Reykjavik', 'lat': 64.13, 'lon': -21.82, 'klimatski_pas': 'Polarni'},\n",
    "    {'ime': 'Singapore', 'lat': 1.35, 'lon': 103.86, 'klimatski_pas': 'Tropski'},\n",
    "    {'ime': 'Sydney', 'lat': -33.87, 'lon': 151.21, 'klimatski_pas': 'Subtropski'},\n",
    "    {'ime': 'Tokyo', 'lat': 35.68, 'lon': 139.77, 'klimatski_pas': 'Zmerni'},\n",
    "    {'ime': 'Barrow', 'lat': 71.29, 'lon': -156.79, 'klimatski_pas': 'Polarni'},\n",
    "    {'ime': 'Cairo', 'lat': 30.04, 'lon': 31.24, 'klimatski_pas': 'Subtropski'},\n",
    "    {'ime': 'Buenos_Aires', 'lat': -34.60, 'lon': -58.38, 'klimatski_pas': 'Subtropski'},\n",
    "    {'ime': 'Cape_Town', 'lat': -33.92, 'lon': 18.42, 'klimatski_pas': 'Subtropski'},\n",
    "    {'ime': 'Mumbai', 'lat': 19.08, 'lon': 72.88, 'klimatski_pas': 'Tropski'}\n",
    "]\n"
   ]
  },
  {
   "cell_type": "markdown",
   "metadata": {},
   "source": [
    " ### 3.3 Pridobivanje podatkov"
   ]
  },
  {
   "cell_type": "markdown",
   "metadata": {},
   "source": [
    "Nastavimo parametre, začetni in končni datum in definiramo funkcijo:\n",
    "\n",
    "-  Funkcija `pridobi_podatke_za_lokacije` Pridobi podatke za vse definirane\n",
    "   lokacije v določenem časovnem obdobju.\n",
    "\n",
    "-  Zbiranje podatkov znotraj zanke (`for`) se kaže preko progress bara\n",
    "\n",
    "-  `Try` zajema morebitne napake, v spremenljivko `tocka` se ustvari geografska\n",
    "\n",
    "    lokacija iz zempljepisne širine (`lon`) in dolžine (`lat`)\n",
    "\n",
    "-  `Daily()` - template za dnevne podatke\n",
    "\n",
    "-  `fetch()` pošlje zahtevo k Meteostat API in podatke dobi v obliki `df`\n",
    "    (DataFrame)"
   ]
  },
  {
   "cell_type": "markdown",
   "metadata": {},
   "source": [
    " ###  3.4  Obdelava podatkov"
   ]
  },
  {
   "cell_type": "markdown",
   "metadata": {},
   "source": [
    "\n",
    "-   Funkcija `reset_index()` ponastavi indeks df.\n",
    "\n",
    "-   Ustvari stolpec `temperatura_avg`\n",
    "\n",
    "-  `dt.year.unique()` poišče unikatna leta v podatkih\n",
    "\n",
    "-   Funkcija `shrani_podatke()` za vsako leto"
   ]
  },
  {
   "cell_type": "markdown",
   "metadata": {},
   "source": [
    " ###  3.5  Napake"
   ]
  },
  {
   "cell_type": "markdown",
   "metadata": {},
   "source": [
    "-  Izpiše ime lokacije in opis napake\n",
    "\n",
    "-  Klic funkcije `pridobi_podatke_za_lokacije()` shrani rezultate v\n",
    "   spremenljivki `uspeh` in `neuspeh`"
   ]
  },
  {
   "cell_type": "code",
   "execution_count": 5,
   "metadata": {},
   "outputs": [
    {
     "name": "stderr",
     "output_type": "stream",
     "text": [
      "Pridobivanje podatkov: 100%|██████████| 10/10 [00:23<00:00,  2.35s/it]"
     ]
    },
    {
     "name": "stdout",
     "output_type": "stream",
     "text": [
      "\n",
      " Uspešno: 10 lokacij\n",
      " Neuspešno: 0 lokacij\n",
      " Pridobivanje podatkov končano!\n",
      " Mapa za podatke: c:\\Users\\Uporabnik\\Projektna_naloga_UVP\\Podatki\\ne_predelani\n"
     ]
    },
    {
     "name": "stderr",
     "output_type": "stream",
     "text": [
      "\n"
     ]
    }
   ],
   "source": [
    "zacetek = datetime(1950, 1, 1)\n",
    "konec = datetime(2023, 12, 31)\n",
    "from meteostat_podatki import shrani_podatke\n",
    "\n",
    "def pridobi_podatke_za_lokacije(lokacije, zacetek, konec):\n",
    "\n",
    "    uspeh = 0\n",
    "    neuspeh = 0\n",
    "\n",
    "    for lokacija in tqdm(lokacije, desc=\"Pridobivanje podatkov\"):\n",
    "        try:\n",
    "            tocka = Point(lokacija['lat'], lokacija['lon'])\n",
    "            podatki = Daily(tocka, zacetek, konec)\n",
    "            df = podatki.fetch()\n",
    "            \n",
    "            if df.empty:\n",
    "                neuspeh += 1   #Preveri DataFrame\n",
    "                continue\n",
    "            \n",
    "            \n",
    "            df = df.reset_index()\n",
    "            df['temperatura_avg'] = df['tavg']\n",
    "            df = df[['time', 'temperatura_avg']]\n",
    "            \n",
    "            for leto in df['time'].dt.year.unique():\n",
    "                df_leto = df[df['time'].dt.year == leto]\n",
    "                shrani_podatke(df_leto, lokacija['ime'], leto)\n",
    "            \n",
    "            uspeh += 1\n",
    "\n",
    "        except Exception as e:\n",
    "            print(f\"Napaka pri {lokacija['ime']}: {str(e)}\")\n",
    "            neuspeh += 1\n",
    "    \n",
    "    return uspeh, neuspeh\n",
    "\n",
    "uspeh, neuspeh = pridobi_podatke_za_lokacije(lokacije, zacetek, konec)\n",
    "\n",
    "print(f\"\\n Uspešno: {uspeh} lokacij\")\n",
    "print(f\" Neuspešno: {neuspeh} lokacij\")\n",
    "print(\" Pridobivanje podatkov končano!\")\n",
    "print(f\" Mapa za podatke: {DATA_DIR}\")\n"
   ]
  },
  {
   "cell_type": "markdown",
   "metadata": {},
   "source": [
    " ## 4. Analiza podatkov"
   ]
  },
  {
   "cell_type": "markdown",
   "metadata": {},
   "source": [
    " ### 4.1 Nalaganje in predobdelava podatkov"
   ]
  },
  {
   "cell_type": "markdown",
   "metadata": {},
   "source": [
    "Funkcija `nalozi_podatke_mesta` naloži in združi podatke\n",
    "\n",
    " -  `os.path.join()` - vzorec za iskanje datotek po imenu mesta\n",
    "\n",
    " -  `glob.glob()` - poišče ustrezne datoteke\n",
    "\n",
    " -  `vsi_podatki` - pripravljen prazen seznam za shranjevanje df\n",
    "\n",
    " -  for `datoteka` in `tqdm`() - progress bar\n",
    "\n",
    " -  `pd.read_csv()` - prebere CSV in pretvori time v datetime object\n",
    "\n",
    " -  `df.rename()` - spremeni ime stolpca (time => datum)\n",
    "\n",
    " -  `df.dropna()` - odstrani pomankljive vrstice\n",
    "\n",
    " -  `df[]` - doda stolpec z letom, mesecem in mestom\n",
    "\n",
    " -  `pd.concoat()` - združi DataFrame in jih uredu po datumu\n"
   ]
  },
  {
   "cell_type": "code",
   "execution_count": 6,
   "metadata": {},
   "outputs": [],
   "source": [
    "def nalozi_podatke_mesta(pot, ime_mesta):\n",
    "    \"\"\"\n",
    "    Naloži podatke za posamezno mesto\n",
    "    \"\"\"\n",
    "    vzorec = os.path.join(pot, f\"{ime_mesta}_*_temperature.csv\")\n",
    "    vse_datoteke = glob.glob(vzorec)\n",
    "\n",
    "    if not vse_datoteke:\n",
    "        raise FileNotFoundError(f\"Ni datotek za: {ime_mesta} v {pot}\")\n",
    "        \n",
    "    vsi_podatki = []\n",
    "    \n",
    "    for datoteka in sorted(vse_datoteke):\n",
    "        try:\n",
    "            df = pd.read_csv(datoteka, parse_dates=['time'])\n",
    "            df = df.rename(columns={'time': 'datum'})\n",
    "            df = df.dropna(subset=['temperatura_avg'])\n",
    "            \n",
    "            df['leto'] = df['datum'].dt.year\n",
    "            df['mesec'] = df['datum'].dt.month\n",
    "            df['mesto'] = ime_mesta\n",
    "            \n",
    "            vsi_podatki.append(df[['mesto', 'datum', 'leto', 'mesec', 'temperatura_avg']])\n",
    "        except Exception as e:\n",
    "            print(f\"Napaka pri branju {os.path.basename(datoteka)}: {e}\")\n",
    "    \n",
    "    if not vsi_podatki:\n",
    "        raise ValueError(f\"Ni veljavnih podatkov za {ime_mesta}\")\n",
    "    \n",
    "    return pd.concat(vsi_podatki).sort_values('datum')\n"
   ]
  },
  {
   "cell_type": "markdown",
   "metadata": {},
   "source": [
    " ### 4.2 Statistična analiza"
   ]
  },
  {
   "cell_type": "code",
   "execution_count": null,
   "metadata": {},
   "outputs": [],
   "source": [
    "def procesiraj_rezultate(df):\n",
    "    \"\"\"\n",
    "    Izvede statistično analizo podatkov\n",
    "    \"\"\"\n",
    "    rezultati = []\n",
    "    mesta = df.groupby('mesto')\n",
    "    \n",
    "    print(\"\\n🔍 Analiziram podatke:\")\n",
    "    for ime, group in mesta:\n",
    "        print(f\"  ⏳ Obdelujem {ime}...\", end=\" \")\n",
    "        \n",
    "        # Letne statistike\n",
    "        letna = group.groupby('leto')['temperatura_avg'].agg(['mean', 'max', 'min']).reset_index()\n",
    "        \n",
    "        # Linearni trend\n",
    "        slope, _, _, p_value, _ = stats.linregress(letna['leto'], letna['mean'])\n",
    "        \n",
    "        # Sezonska amplituda\n",
    "        mesečna = group.groupby('mesec')['temperatura_avg'].mean()\n",
    "        amplituda = mesečna.max() - mesečna.min()\n",
    "        \n",
    "        rezultati.append({\n",
    "            'mesto': ime,\n",
    "            'klimatski_pas': group['klimatski_pas'].iloc[0],\n",
    "            'lat': group['lat'].iloc[0],\n",
    "            'povprecna_temp': round(letna['mean'].mean(), 2),\n",
    "            'trend_na_decade': round(slope * 10, 3),\n",
    "            'p_value': round(p_value, 4),\n",
    "            'sezonska_amplituda': round(amplituda, 2)\n",
    "        })\n",
    "        \n",
    "    \n",
    "    return pd.DataFrame(rezultati).sort_values('trend_na_decade', ascending=False)"
   ]
  },
  {
   "cell_type": "markdown",
   "metadata": {},
   "source": [
    " ### 4.3 Zagon celotne analize"
   ]
  },
  {
   "cell_type": "code",
   "execution_count": null,
   "metadata": {},
   "outputs": [
    {
     "name": "stdout",
     "output_type": "stream",
     "text": [
      " Začenjam analizo podatkov...\n",
      " Nalaganje podatkov za mesta:\n",
      "  Ljubljana: nalaganje...  Uspešno\n",
      "  Reykjavik: nalaganje...  Uspešno\n",
      "  Singapore: nalaganje...  Uspešno\n",
      "  Sydney: nalaganje...  Uspešno\n",
      "  Tokyo: nalaganje...  Uspešno\n",
      "  Barrow: nalaganje...  Uspešno\n",
      "  Cairo: nalaganje...  Uspešno\n",
      "  Buenos_Aires: nalaganje...  Uspešno\n",
      "  Cape_Town: nalaganje...  Uspešno\n",
      "  Mumbai: nalaganje...  Uspešno\n",
      "\n",
      "🔍 Analiziram podatke:\n",
      "  ⏳ Obdelujem Barrow... ✅\n",
      "  ⏳ Obdelujem Buenos_Aires... ✅\n",
      "  ⏳ Obdelujem Cairo... ✅\n",
      "  ⏳ Obdelujem Cape_Town... ✅\n",
      "  ⏳ Obdelujem Ljubljana... ✅\n",
      "  ⏳ Obdelujem Mumbai... ✅\n",
      "  ⏳ Obdelujem Reykjavik... ✅\n",
      "  ⏳ Obdelujem Singapore... ✅\n",
      "  ⏳ Obdelujem Sydney... ✅\n",
      "  ⏳ Obdelujem Tokyo... ✅\n",
      "\n",
      " Rezultati shranjeni v: c:\\Users\\Uporabnik\\Projektna_naloga_UVP\\Podatki\\rezultati\\povzetek_analize.csv\n",
      "\n",
      " Povzetek rezultatov:\n"
     ]
    },
    {
     "data": {
      "text/html": [
       "<div>\n",
       "<style scoped>\n",
       "    .dataframe tbody tr th:only-of-type {\n",
       "        vertical-align: middle;\n",
       "    }\n",
       "\n",
       "    .dataframe tbody tr th {\n",
       "        vertical-align: top;\n",
       "    }\n",
       "\n",
       "    .dataframe thead th {\n",
       "        text-align: right;\n",
       "    }\n",
       "</style>\n",
       "<table border=\"1\" class=\"dataframe\">\n",
       "  <thead>\n",
       "    <tr style=\"text-align: right;\">\n",
       "      <th></th>\n",
       "      <th>mesto</th>\n",
       "      <th>klimatski_pas</th>\n",
       "      <th>povprecna_temp</th>\n",
       "      <th>trend_na_decade</th>\n",
       "      <th>sezonska_amplituda</th>\n",
       "    </tr>\n",
       "  </thead>\n",
       "  <tbody>\n",
       "    <tr>\n",
       "      <th>4</th>\n",
       "      <td>Ljubljana</td>\n",
       "      <td>Zmerni</td>\n",
       "      <td>11.52</td>\n",
       "      <td>0.644</td>\n",
       "      <td>20.92</td>\n",
       "    </tr>\n",
       "    <tr>\n",
       "      <th>0</th>\n",
       "      <td>Barrow</td>\n",
       "      <td>Polarni</td>\n",
       "      <td>-10.94</td>\n",
       "      <td>0.571</td>\n",
       "      <td>30.55</td>\n",
       "    </tr>\n",
       "    <tr>\n",
       "      <th>5</th>\n",
       "      <td>Mumbai</td>\n",
       "      <td>Tropski</td>\n",
       "      <td>27.33</td>\n",
       "      <td>0.391</td>\n",
       "      <td>6.31</td>\n",
       "    </tr>\n",
       "    <tr>\n",
       "      <th>2</th>\n",
       "      <td>Cairo</td>\n",
       "      <td>Subtropski</td>\n",
       "      <td>22.11</td>\n",
       "      <td>0.376</td>\n",
       "      <td>14.78</td>\n",
       "    </tr>\n",
       "    <tr>\n",
       "      <th>7</th>\n",
       "      <td>Singapore</td>\n",
       "      <td>Tropski</td>\n",
       "      <td>27.54</td>\n",
       "      <td>0.333</td>\n",
       "      <td>1.83</td>\n",
       "    </tr>\n",
       "    <tr>\n",
       "      <th>9</th>\n",
       "      <td>Tokyo</td>\n",
       "      <td>Zmerni</td>\n",
       "      <td>16.03</td>\n",
       "      <td>0.236</td>\n",
       "      <td>21.76</td>\n",
       "    </tr>\n",
       "    <tr>\n",
       "      <th>8</th>\n",
       "      <td>Sydney</td>\n",
       "      <td>Subtropski</td>\n",
       "      <td>17.97</td>\n",
       "      <td>0.212</td>\n",
       "      <td>10.31</td>\n",
       "    </tr>\n",
       "    <tr>\n",
       "      <th>6</th>\n",
       "      <td>Reykjavik</td>\n",
       "      <td>Polarni</td>\n",
       "      <td>4.88</td>\n",
       "      <td>0.177</td>\n",
       "      <td>11.28</td>\n",
       "    </tr>\n",
       "    <tr>\n",
       "      <th>1</th>\n",
       "      <td>Buenos_Aires</td>\n",
       "      <td>Subtropski</td>\n",
       "      <td>17.98</td>\n",
       "      <td>0.064</td>\n",
       "      <td>13.34</td>\n",
       "    </tr>\n",
       "    <tr>\n",
       "      <th>3</th>\n",
       "      <td>Cape_Town</td>\n",
       "      <td>Subtropski</td>\n",
       "      <td>16.84</td>\n",
       "      <td>0.045</td>\n",
       "      <td>8.76</td>\n",
       "    </tr>\n",
       "  </tbody>\n",
       "</table>\n",
       "</div>"
      ],
      "text/plain": [
       "          mesto klimatski_pas  povprecna_temp  trend_na_decade  \\\n",
       "4     Ljubljana        Zmerni           11.52            0.644   \n",
       "0        Barrow       Polarni          -10.94            0.571   \n",
       "5        Mumbai       Tropski           27.33            0.391   \n",
       "2         Cairo    Subtropski           22.11            0.376   \n",
       "7     Singapore       Tropski           27.54            0.333   \n",
       "9         Tokyo        Zmerni           16.03            0.236   \n",
       "8        Sydney    Subtropski           17.97            0.212   \n",
       "6     Reykjavik       Polarni            4.88            0.177   \n",
       "1  Buenos_Aires    Subtropski           17.98            0.064   \n",
       "3     Cape_Town    Subtropski           16.84            0.045   \n",
       "\n",
       "   sezonska_amplituda  \n",
       "4               20.92  \n",
       "0               30.55  \n",
       "5                6.31  \n",
       "2               14.78  \n",
       "7                1.83  \n",
       "9               21.76  \n",
       "8               10.31  \n",
       "6               11.28  \n",
       "1               13.34  \n",
       "3                8.76  "
      ]
     },
     "metadata": {},
     "output_type": "display_data"
    }
   ],
   "source": [
    "print(\" Analizo podatkov \")\n",
    "\n",
    "try:\n",
    "    vsi_podatki = []\n",
    "    \n",
    "    # Nalaganje podatkov s statusnimi sporočili\n",
    "    print(\" Nalaganje podatkov za mesta:\")\n",
    "    for mesto in lokacije:\n",
    "        ime = mesto['ime']\n",
    "        pot_mesto = DATA_DIR / ime\n",
    "        \n",
    "        if not pot_mesto.exists():\n",
    "            print(f\"  {ime}: mapa ne obstaja\")\n",
    "            continue\n",
    "            \n",
    "        try:\n",
    "            print(f\"  {ime}: nalaganje...\", end=\" \")\n",
    "            df = nalozi_podatke_mesta(pot_mesto, ime)\n",
    "            df['lat'] = mesto['lat']\n",
    "            df['klimatski_pas'] = mesto['klimatski_pas']\n",
    "            vsi_podatki.append(df)\n",
    "            print(\" Uspešno\")\n",
    "        except Exception as e:\n",
    "            print(f\" Napaka: {str(e)}\")\n",
    "    \n",
    "    if not vsi_podatki:\n",
    "        raise ValueError(\"Ni podatkov za analizo\")\n",
    "    \n",
    "    # Procesiranje z enim progress barjem\n",
    "    rezultati = procesiraj_rezultate(pd.concat(vsi_podatki))\n",
    "    \n",
    "    # Shranjevanje rezultatov\n",
    "    pot_rezultatov = RESULTS_DIR / \"povzetek_analize.csv\"\n",
    "    rezultati.to_csv(pot_rezultatov, index=False, encoding='utf-8-sig')\n",
    "    print(f\"\\n Rezultati shranjeni v: {pot_rezultatov}\")\n",
    "    \n",
    "    # Prikaz rezultatov\n",
    "    print(\"\\n Povzetek rezultatov:\")\n",
    "    display(rezultati[['mesto', 'klimatski_pas', 'povprecna_temp', 'trend_na_decade', 'sezonska_amplituda']])\n",
    "    \n",
    "except Exception as e:\n",
    "    print(f\"Kritična napaka: {e}\")"
   ]
  },
  {
   "cell_type": "markdown",
   "metadata": {},
   "source": [
    " ## 5. Vizualizacija rezultatov"
   ]
  },
  {
   "cell_type": "markdown",
   "metadata": {},
   "source": [
    " ### 5.2 Trendi segrevanja po mestih"
   ]
  },
  {
   "cell_type": "code",
   "execution_count": 9,
   "metadata": {},
   "outputs": [
    {
     "data": {
      "image/png": "[encoded data removed]",
      "text/plain": [
       "<Figure size 1400x600 with 1 Axes>"
      ]
     },
     "metadata": {},
     "output_type": "display_data"
    }
   ],
   "source": [
    "plt.figure(figsize=(14, 6))\n",
    "ax = sns.barplot(data=rezultati, x='mesto', y='trend_na_decade', hue='klimatski_pas')\n",
    "plt.title('Trend segrevanja na desetletje (1950-2023)', fontsize=14)\n",
    "plt.ylabel('Sprememba temperature (°C/decado)', fontsize=12)\n",
    "plt.xlabel('Mesto', fontsize=12)\n",
    "plt.xticks(rotation=45)\n",
    "plt.axhline(0, color='gray', linestyle='--')\n",
    "plt.legend(title='Klimatski pas')\n",
    "plt.tight_layout()\n",
    "plt.show()\n"
   ]
  },
  {
   "cell_type": "markdown",
   "metadata": {},
   "source": [
    " ### 5.3 Odvisnost trendov od geografske širine"
   ]
  },
  {
   "cell_type": "code",
   "execution_count": 10,
   "metadata": {},
   "outputs": [
    {
     "data": {
      "image/png": "[encoded data removed]",
      "text/plain": [
       "<Figure size 1200x600 with 1 Axes>"
      ]
     },
     "metadata": {},
     "output_type": "display_data"
    }
   ],
   "source": [
    "plt.figure(figsize=(12, 6))\n",
    "sns.scatterplot(data=rezultati, x='lat', y='trend_na_decade',\n",
    "                hue='klimatski_pas', size='povprecna_temp',\n",
    "                sizes=(50, 200), alpha=0.8)\n",
    "plt.title('Odvisnost trenda segrevanja od geografske širine', fontsize=14)\n",
    "plt.xlabel('Geografska širina', fontsize=12)\n",
    "plt.ylabel('Trend segrevanja (°C/decado)', fontsize=12)\n",
    "plt.axhline(0, color='gray', linestyle='--')\n",
    "plt.grid(True, alpha=0.3)\n",
    "plt.legend(bbox_to_anchor=(1.05, 1), loc='upper left')\n",
    "plt.tight_layout()\n",
    "plt.show()\n"
   ]
  },
  {
   "cell_type": "markdown",
   "metadata": {},
   "source": [
    " ## 6. Interpretacija rezultatov"
   ]
  },
  {
   "cell_type": "markdown",
   "metadata": {},
   "source": [
    " ### 6.1 Ključne ugotovitve"
   ]
  },
  {
   "cell_type": "markdown",
   "metadata": {},
   "source": [
    " ### 6.2 Zaključek"
   ]
  },
  {
   "cell_type": "markdown",
   "metadata": {},
   "source": [
    " ## 7. Tehnične specifikacije"
   ]
  },
  {
   "cell_type": "markdown",
   "metadata": {},
   "source": [
    " ## 8. Dodatni materiali / viri\n",
    "\n",
    " - [Dokumentacija Meteostat API](https://dev.meteostat.net/)\n",
    "\n",
    " - [Tehnike analize klimatskih podatkov](https://climatedataguide.ucar.edu/climate-tools)\n"
   ]
  }
 ],
 "metadata": {
  "kernelspec": {
   "display_name": "Python 3",
   "language": "python",
   "name": "python3"
  },
  "language_info": {
   "codemirror_mode": {
    "name": "ipython",
    "version": 3
   },
   "file_extension": ".py",
   "mimetype": "text/x-python",
   "name": "python",
   "nbconvert_exporter": "python",
   "pygments_lexer": "ipython3",
   "version": "3.13.6"
  }
 },
 "nbformat": 4,
 "nbformat_minor": 4
}
