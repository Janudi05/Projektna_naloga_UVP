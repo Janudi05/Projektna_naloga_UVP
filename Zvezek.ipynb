{
 "cells": [
  {
   "cell_type": "markdown",
   "metadata": {},
   "source": [
    "# Analiza temperatur v Sloveniji\n",
    "\n",
    "\n",
    "Ta projekt izvaja zajem in obdelavo temperaturnih podatkov za 10 slovenskih mest s pomočjo Open-Meteo API-ja. Cilj je analizirati temperaturno zgodovino (2000-2025) po mestih, letnih časih in regijah ter identificirati podnebne trende.\n",
    "\n",
    "Projektna naloga zajema:\n",
    "- Pridobivanje zgodovinskih podatkov o temperaturah iz Open-Meteo API-ja\n",
    "- Shranjevanje podatkov za zadnjih 25 let za 10 slovenskih mest\n",
    "- Organizacija podatkov v mapah za nadaljno analizo\n",
    "\n",
    "## Viri podatkov\n",
    "- Open-Meteo API za zgodovinske vremenske podatke\n",
    "- Geodetska uprava RS za koordinate mest\n",
    "- ARSO za validacijo podatkov\n",
    "\n",
    "## Cilj projekta\n",
    "Analizirati temperaturno zgodovino (2000-2025) po mestih, letnih časih in regijah ter identificirati podnebne trende."
   ]
  },
  {
   "cell_type": "markdown",
   "metadata": {},
   "source": [
    "## Uvoz knjižnic\n",
    "\n",
    "V tem delu uvozimo vse potrebne knjižnice"
   ]
  },
  {
   "cell_type": "code",
   "execution_count": 1,
   "metadata": {},
   "outputs": [
    {
     "name": "stdout",
     "output_type": "stream",
     "text": [
      "✅ Vse knjižnice so uspešno naložene\n"
     ]
    }
   ],
   "source": [
    "import requests                 # Za komunikacijo z API\n",
    "import pandas as pd             # Za delo s podatki\n",
    "import os                       # Za datoteke\n",
    "from datetime import datetime   # Za datume\n",
    "from tqdm import tqdm           # Za progress bar\n",
    "\n",
    "print(\"✅ Vse knjižnice so uspešno naložene\")"
   ]
  },
  {
   "cell_type": "markdown",
   "metadata": {},
   "source": [
    "## Konfiguracija projekta\n",
    "\n",
    "Nastavimo osnovne parametre za pridobivanje podatkov:\n",
    "- API naslov za zgodovinske podatke\n",
    "- Časovno obdobje (zadnjih 25 let)\n",
    "- Mapa za shranjevanje rezultatov"
   ]
  },
  {
   "cell_type": "code",
   "execution_count": 2,
   "metadata": {},
   "outputs": [],
   "source": [
    "# API Naslov\n",
    "API_NASLOV = \"https://archive-api.open-meteo.com/v1/archive\"\n",
    "STEVILO_LET = 25\n",
    "CASOVNI_PAS = \"Europe/Berlin\"\n",
    "\n",
    "# Mapa s podatki\n",
    "IMENIK_PODATKOV = \"podatki\"\n",
    "MAX_CAKANJE = 15  # v sekundah"
   ]
  },
  {
   "cell_type": "markdown",
   "metadata": {},
   "source": [
    "## Izbrani kraji\n",
    "\n",
    "Analizirali bomo 10 mest iz vseh delov Slovenije z njihovimi koordinatami:"
   ]
  },
  {
   "cell_type": "code",
   "execution_count": 3,
   "metadata": {},
   "outputs": [],
   "source": [
    "kraji = {\n",
    "    # Primorska\n",
    "    \"Koper\": (45.5481, 13.7302),\n",
    "    \"Nova_Gorica\": (45.9558, 13.6433),\n",
    "    \n",
    "    # Gorenjska\n",
    "    \"Bled\": (46.3692, 14.1136),\n",
    "    \n",
    "    # Osrednja Slovenija\n",
    "    \"Ljubljana\": (46.0569, 14.5058),\n",
    "    \"Celje\": (46.2309, 15.2604),\n",
    "    \n",
    "    # Podravje\n",
    "    \"Maribor\": (46.5547, 15.6459),\n",
    "    \n",
    "    # Dolenjska\n",
    "    \"Novo_mesto\": (45.8000, 15.1667),\n",
    "    \"Krško\": (45.9500, 15.4833),\n",
    "    \n",
    "    # Pomurje\n",
    "    \"Murska_Sobota\": (46.6586, 16.1594),\n",
    "    \n",
    "    # Koroška\n",
    "    \"Slovenj_Gradec\": (46.5100, 15.0800)\n",
    "}"
   ]
  },
  {
   "cell_type": "markdown",
   "metadata": {},
   "source": [
    "## Pridobivanje podatkov iz API-ja\n",
    "\n",
    "Funkcija `pridobi_podatke` bo poslala zahtevo na Open-Meteo API za pridobitev temperaturne zgodovine za lokacijo in časovno obdobje. Te podatke bo vrnila v JSON formatu. Nastavimo še parametre:\n",
    "   - `latitude` : Zemljepisna širina\n",
    "   - `longitude` : Zemljepisna dolžina\n",
    "   - `start_date` : Začetni datum (YYYY-MM-DD)\n",
    "   - `end_date` : Končni datum (YYYY-MM-DD)\n",
    "   - `temperature_2m_mean` : Povprečna dnevna temperatura"
   ]
  },
  {
   "cell_type": "code",
   "execution_count": 4,
   "metadata": {},
   "outputs": [],
   "source": [
    "def pridobi_podatke(latitude, longitude, start_date, end_date):\n",
    "    \n",
    "    parametri = {\n",
    "        \"latitude\": latitude,\n",
    "        \"longitude\": longitude,\n",
    "        \"start_date\": start_date,\n",
    "        \"end_date\": end_date,\n",
    "        \"daily\": \"temperature_2m_mean\",\n",
    "        \"timezone\": \"Europe/Berlin\"\n",
    "    }\n",
    "    try:\n",
    "        odgovor = requests.get(API_NASLOV, params=parametri, timeout=MAX_CAKANJE)\n",
    "        return odgovor.json()\n",
    "    except Exception as e:\n",
    "        return None\n"
   ]
  },
  {
   "cell_type": "markdown",
   "metadata": {},
   "source": [
    "## Shranjevanje podatkov\n",
    "\n",
    "Podatke bomo organizirali v hierarhični strukturi:"
   ]
  },
  {
   "cell_type": "markdown",
   "metadata": {},
   "source": [
    "```text\n",
    "Projektna_naloga_UVP/\n",
    "└── podatki/\n",
    "    ├── Koper/\n",
    "    │   ├── 2020/\n",
    "    │   │   ├── 01.csv\n",
    "    │   │   ├── 02.csv\n",
    "    │   │   └── ...\n",
    "    │   ├── 2021/\n",
    "    │   │   ├── 01.csv\n",
    "    │   │   └── ...\n",
    "    │   └── ...\n",
    "    │\n",
    "    ├── Ljubljana/\n",
    "    │   ├── 2020/\n",
    "    │   │   ├── 01.csv\n",
    "    │   │   └── ...\n",
    "    │   └── ...\n",
    "    │\n",
    "    ├── Maribor/\n",
    "    │   ├── 2020/\n",
    "    │   │   ├── 01.csv\n",
    "    │   │   └── ...\n",
    "    │   └── ...\n",
    "    │\n",
    "    └── ostali_kraji/\n",
    "        ├── Bled/\n",
    "        ├── Celje/\n",
    "        └── ...\n",
    "```"
   ]
  },
  {
   "cell_type": "markdown",
   "metadata": {},
   "source": [
    "## Funkcija za shranjevanje podatkov\n",
    "\n",
    "Shrani temperaturno zgodovino v CSV datoteke po letih in mesecih"
   ]
  },
  {
   "cell_type": "code",
   "execution_count": 5,
   "metadata": {},
   "outputs": [],
   "source": [
    "def shrani_podatke(kraj, podatki):\n",
    "    \n",
    "    try:\n",
    "        # Ustvarimo DataFrame\n",
    "        df = pd.DataFrame({\n",
    "            \"datum\": podatki[\"daily\"][\"time\"],\n",
    "            \"temperatura\": podatki[\"daily\"][\"temperature_2m_mean\"]\n",
    "        })\n",
    "        \n",
    "        # Pretvorba datuma\n",
    "        df['datum'] = pd.to_datetime(df['datum'])\n",
    "        df['leto'] = df['datum'].dt.year\n",
    "        df['mesec'] = df['datum'].dt.month\n",
    "        \n",
    "        # Mape po imenih\n",
    "        os.makedirs(f\"{IMENIK_PODATKOV}/{kraj}\", exist_ok=True)\n",
    "        \n",
    "        # Mape po letih\n",
    "        for (leto, mesec), skupina in df.groupby(['leto', 'mesec']):\n",
    "            leto_mapa = f\"{IMENIK_PODATKOV}/{kraj}/{leto}\"\n",
    "            os.makedirs(leto_mapa, exist_ok=True)\n",
    "            # Mape po mesecih\n",
    "            skupina.to_csv(f\"{leto_mapa}/{mesec:02d}.csv\", index=False)\n",
    "        \n",
    "    except Exception as e:\n",
    "        pass\n"
   ]
  },
  {
   "cell_type": "markdown",
   "metadata": {},
   "source": [
    "## Glavna zanka za obdelavo\n",
    "\n",
    "Postopek pridobivanja podatkov:\n",
    "1. Določimo časovno obdobje (zadnjih 25 let)\n",
    "2. Za vsak kraj poženemo funkcijo `pridobi_podatke`\n",
    "3. Uporabi funkcijo `shrani_podatke` za shranjevanje\n",
    "4. Prek progress bara spremljamo napredek"
   ]
  },
  {
   "cell_type": "code",
   "execution_count": 7,
   "metadata": {},
   "outputs": [
    {
     "name": "stderr",
     "output_type": "stream",
     "text": [
      "Pridobivanje podatkov: 100%|██████████| 10/10 [00:02<00:00,  4.72it/s]"
     ]
    },
    {
     "name": "stdout",
     "output_type": "stream",
     "text": [
      "\n",
      "    Uspešno shranjeni podatki:\n",
      "    - Obdelanih krajev:       10                     \n",
      "    - Časovno obdobje:        25 let                  \n",
      "    - Lokacija shranjevanja:  podatki                \n",
      "    \n"
     ]
    },
    {
     "name": "stderr",
     "output_type": "stream",
     "text": [
      "\n"
     ]
    }
   ],
   "source": [
    "def main():\n",
    "    \n",
    "    # Preverimo obstoj glavne mape\n",
    "    os.makedirs(\"podatki\", exist_ok=True)\n",
    "    \n",
    "    # Časovno obdobje (zadnjih 25 let)\n",
    "    danes = datetime.now()\n",
    "    end_date = danes.strftime(\"%Y-%m-%d\")\n",
    "    start_date = (\"2000-01-01\")\n",
    "    \n",
    "    # Progress bar:\n",
    "    with tqdm(kraji.items(), desc=\"Pridobivanje podatkov\") as pbar:\n",
    "        for kraj, (lat, lon) in pbar:\n",
    "            # Pridobimo podatke za trenutni kraj\n",
    "            podatki = pridobi_podatke(lat, lon, start_date, end_date)\n",
    "            # Shranimo podatke\n",
    "            if podatki:\n",
    "                shrani_podatke(kraj, podatki)\n",
    "            # Posodobimo napredek\n",
    "            pbar.update()\n",
    "\n",
    "    # Ob zaključku pošljemo sporočilo\n",
    "    sporocilo = f\"\"\"\n",
    "    Uspešno shranjeni podatki:\n",
    "    {'- Obdelanih krajev:':<25} {len(kraji):<23}\n",
    "    {'- Časovno obdobje:':<25} {STEVILO_LET} let{'':<18}\n",
    "    {'- Lokacija shranjevanja:':<25} {IMENIK_PODATKOV:<23}\n",
    "    \"\"\"\n",
    "    print(sporocilo)\n",
    "\n",
    "# Poženemo funkcijo\n",
    "if __name__ == \"__main__\":\n",
    "    main()\n"
   ]
  }
 ],
 "metadata": {
  "kernelspec": {
   "display_name": "Python 3",
   "language": "python",
   "name": "python3"
  },
  "language_info": {
   "codemirror_mode": {
    "name": "ipython",
    "version": 3
   },
   "file_extension": ".py",
   "mimetype": "text/x-python",
   "name": "python",
   "nbconvert_exporter": "python",
   "pygments_lexer": "ipython3",
   "version": "3.13.6"
  }
 },
 "nbformat": 4,
 "nbformat_minor": 2
}
